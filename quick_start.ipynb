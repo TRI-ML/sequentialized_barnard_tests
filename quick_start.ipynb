{
 "cells": [
  {
   "attachments": {},
   "cell_type": "markdown",
   "metadata": {},
   "source": [
    "## Import Packages"
   ]
  },
  {
   "cell_type": "code",
   "execution_count": null,
   "metadata": {},
   "outputs": [],
   "source": [
    "import numpy as np\n",
    "\n",
    "from sequentialized_barnard_tests import MirroredLaiTest, MirroredSaviTest, MirroredStepTest\n",
    "from sequentialized_barnard_tests.base import Hypothesis"
   ]
  },
  {
   "attachments": {},
   "cell_type": "markdown",
   "metadata": {},
   "source": [
    "## Load Data"
   ]
  },
  {
   "cell_type": "code",
   "execution_count": null,
   "metadata": {},
   "outputs": [],
   "source": [
    "example_data = np.load(\"data/example_clean_spill/TRI_CLEAN_SPILL_v4.npy\")\n",
    "print(example_data.shape)"
   ]
  },
  {
   "attachments": {},
   "cell_type": "markdown",
   "metadata": {},
   "source": [
    "## Assign Parameters"
   ]
  },
  {
   "cell_type": "code",
   "execution_count": null,
   "metadata": {},
   "outputs": [],
   "source": [
    "# STEP parameters \n",
    "shape_parameter = 0.0 \n",
    "use_p_norm = False \n",
    "\n",
    "# Derived parameters from the data\n",
    "N = 50 \n",
    "\n",
    "# General (shared) parameters\n",
    "n_max = 200 \n",
    "alpha = 0.05\n",
    "alternative_hypothesis = Hypothesis.P0LessThanP1"
   ]
  },
  {
   "attachments": {},
   "cell_type": "markdown",
   "metadata": {},
   "source": [
    "## Define Each Test"
   ]
  },
  {
   "cell_type": "code",
   "execution_count": null,
   "metadata": {},
   "outputs": [],
   "source": [
    "# Load compressed STEP policy \n",
    "step_policy = MirroredStepTest(alternative_hypothesis, n_max, alpha, shape_parameter, use_p_norm)\n",
    "\n",
    "# Load SAVI policy \n",
    "savi_policy = MirroredSaviTest(alternative_hypothesis, alpha=alpha)\n",
    "\n",
    "# Load LAI policy \n",
    "lai_policy = MirroredLaiTest(alternative_hypothesis, n_max, alpha)\n"
   ]
  },
  {
   "attachments": {},
   "cell_type": "markdown",
   "metadata": {},
   "source": [
    "## Run Each Test on the Data"
   ]
  },
  {
   "cell_type": "code",
   "execution_count": null,
   "metadata": {},
   "outputs": [],
   "source": [
    "step_result = step_policy.run_on_sequence(example_data[:, 0], example_data[:, 1])\n",
    "savi_result = savi_policy.run_on_sequence(example_data[:, 0], example_data[:, 1])\n",
    "lai_result = lai_policy.run_on_sequence(example_data[:, 0], example_data[:, 1])"
   ]
  },
  {
   "attachments": {},
   "cell_type": "markdown",
   "metadata": {},
   "source": [
    "## Print Results"
   ]
  },
  {
   "cell_type": "code",
   "execution_count": null,
   "metadata": {},
   "outputs": [],
   "source": [
    "print(\"Comparison Test: Clean Spill\")\n",
    "print(\"n_max: \", 200)\n",
    "print(\"alpha: \", 0.05)\n",
    "print()\n",
    "\n",
    "print(\"STEP Result: \")\n",
    "print(\"Decision: \", step_result.decision)\n",
    "print(\"Time to Decision: \", step_result.info['Time'])\n",
    "print()\n",
    "print(\"SAVI Result: \")\n",
    "print(\"Decision: \", savi_result.decision)\n",
    "print(\"Time to Decision: \", savi_result.info['result_for_alternative'].info['Time'])\n",
    "print()\n",
    "print(\"LAI Result: \")\n",
    "print(\"Decision: \", lai_result.decision)\n",
    "print(\"Time to Decision: \", lai_result.info['Time'])\n"
   ]
  },
  {
   "attachments": {},
   "cell_type": "markdown",
   "metadata": {},
   "source": [
    "## Run on Reversed Data"
   ]
  },
  {
   "cell_type": "code",
   "execution_count": null,
   "metadata": {},
   "outputs": [],
   "source": [
    "# STEP parameters \n",
    "shape_parameter = 0.0 \n",
    "use_p_norm = False \n",
    "\n",
    "# Derived parameters from the data\n",
    "N = 50 \n",
    "\n",
    "# General (shared) parameters\n",
    "n_max = 200 \n",
    "alpha = 0.05\n",
    "alternative_hypothesis = Hypothesis.P0LessThanP1"
   ]
  },
  {
   "cell_type": "code",
   "execution_count": null,
   "metadata": {},
   "outputs": [],
   "source": [
    "# Load compressed STEP policy \n",
    "step_policy = MirroredStepTest(alternative_hypothesis, n_max, alpha, shape_parameter, use_p_norm)\n",
    "\n",
    "# Load SAVI policy \n",
    "savi_policy = MirroredSaviTest(alternative_hypothesis, alpha=alpha)\n",
    "\n",
    "# Load LAI policy \n",
    "lai_policy = MirroredLaiTest(alternative_hypothesis, n_max, alpha)"
   ]
  },
  {
   "cell_type": "code",
   "execution_count": null,
   "metadata": {},
   "outputs": [],
   "source": [
    "# NOTE THE REVERSED INDICES\n",
    "step_result = step_policy.run_on_sequence(example_data[:, 1], example_data[:, 0])\n",
    "savi_result = savi_policy.run_on_sequence(example_data[:, 1], example_data[:, 0])\n",
    "lai_result = lai_policy.run_on_sequence(example_data[:, 1], example_data[:, 0])"
   ]
  },
  {
   "cell_type": "code",
   "execution_count": null,
   "metadata": {},
   "outputs": [],
   "source": [
    "print(\"Comparison Test: Clean Spill -- Reversed Data\")\n",
    "print(\"n_max: \", 200)\n",
    "print(\"alpha: \", 0.05)\n",
    "print()\n",
    "\n",
    "print(\"STEP Result: \")\n",
    "print(\"Decision: \", step_result.decision)\n",
    "print(\"Time to Decision: \", step_result.info['Time'])\n",
    "print()\n",
    "print(\"SAVI Result: \")\n",
    "print(\"Decision: \", savi_result.decision)\n",
    "print(\"Time to Decision: \", savi_result.info['result_for_alternative'].info['Time'])\n",
    "print()\n",
    "print(\"LAI Result: \")\n",
    "print(\"Decision: \", lai_result.decision)\n",
    "print(\"Time to Decision: \", lai_result.info['Time'])"
   ]
  },
  {
   "attachments": {},
   "cell_type": "markdown",
   "metadata": {},
   "source": [
    "## Run on Reversed Hypothesis"
   ]
  },
  {
   "cell_type": "code",
   "execution_count": null,
   "metadata": {},
   "outputs": [],
   "source": [
    "# STEP parameters \n",
    "shape_parameter = 0.0 \n",
    "use_p_norm = False \n",
    "\n",
    "# Derived parameters from the data\n",
    "N = 50 \n",
    "\n",
    "# General (shared) parameters\n",
    "n_max = 200 \n",
    "alpha = 0.05\n",
    "alternative_hypothesis = Hypothesis.P0MoreThanP1     # NOTE THIS CHANGE!"
   ]
  },
  {
   "cell_type": "code",
   "execution_count": null,
   "metadata": {},
   "outputs": [],
   "source": [
    "# Load compressed STEP policy \n",
    "step_policy = MirroredStepTest(alternative_hypothesis, n_max, alpha, shape_parameter, use_p_norm)\n",
    "\n",
    "# Load SAVI policy \n",
    "savi_policy = MirroredSaviTest(alternative_hypothesis, alpha=alpha)\n",
    "\n",
    "# Load LAI policy \n",
    "lai_policy = MirroredLaiTest(alternative_hypothesis, n_max, alpha)"
   ]
  },
  {
   "cell_type": "code",
   "execution_count": null,
   "metadata": {},
   "outputs": [],
   "source": [
    "step_result = step_policy.run_on_sequence(example_data[:, 0], example_data[:, 1])\n",
    "savi_result = savi_policy.run_on_sequence(example_data[:, 0], example_data[:, 1])\n",
    "lai_result = lai_policy.run_on_sequence(example_data[:, 0], example_data[:, 1])"
   ]
  },
  {
   "cell_type": "code",
   "execution_count": null,
   "metadata": {},
   "outputs": [],
   "source": [
    "print(\"Comparison Test: Clean Spill -- Flipped Hypothesis\")\n",
    "print(\"n_max: \", 200)\n",
    "print(\"alpha: \", 0.05)\n",
    "print()\n",
    "\n",
    "print(\"STEP Result: \")\n",
    "print(\"Decision: \", step_result.decision)\n",
    "print(\"Time to Decision: \", step_result.info['Time'])\n",
    "print()\n",
    "print(\"SAVI Result: \")\n",
    "print(\"Decision: \", savi_result.decision)\n",
    "print(\"Time to Decision: \", savi_result.info['result_for_alternative'].info['Time'])\n",
    "print()\n",
    "print(\"LAI Result: \")\n",
    "print(\"Decision: \", lai_result.decision)\n",
    "print(\"Time to Decision: \", lai_result.info['Time'])"
   ]
  },
  {
   "attachments": {},
   "cell_type": "markdown",
   "metadata": {},
   "source": [
    "## Run on Reversed Hypothesis and Reversed Data"
   ]
  },
  {
   "cell_type": "code",
   "execution_count": null,
   "metadata": {},
   "outputs": [],
   "source": [
    "# STEP parameters \n",
    "shape_parameter = 0.0 \n",
    "use_p_norm = False \n",
    "\n",
    "# Derived parameters from the data\n",
    "N = 50 \n",
    "\n",
    "# General (shared) parameters\n",
    "n_max = 200 \n",
    "alpha = 0.05\n",
    "alternative_hypothesis = Hypothesis.P0MoreThanP1     # NOTE THIS CHANGE!"
   ]
  },
  {
   "cell_type": "code",
   "execution_count": null,
   "metadata": {},
   "outputs": [],
   "source": [
    "# Load compressed STEP policy \n",
    "step_policy = MirroredStepTest(alternative_hypothesis, n_max, alpha, shape_parameter, use_p_norm)\n",
    "\n",
    "# Load SAVI policy \n",
    "savi_policy = MirroredSaviTest(alternative_hypothesis, alpha=alpha)\n",
    "\n",
    "# Load LAI policy \n",
    "lai_policy = MirroredLaiTest(alternative_hypothesis, n_max, alpha)"
   ]
  },
  {
   "cell_type": "code",
   "execution_count": null,
   "metadata": {},
   "outputs": [],
   "source": [
    "# NOTE THE REVERSED INDICES\n",
    "step_result = step_policy.run_on_sequence(example_data[:, 1], example_data[:, 0])\n",
    "savi_result = savi_policy.run_on_sequence(example_data[:, 1], example_data[:, 0])\n",
    "lai_result = lai_policy.run_on_sequence(example_data[:, 1], example_data[:, 0])"
   ]
  },
  {
   "cell_type": "code",
   "execution_count": null,
   "metadata": {},
   "outputs": [],
   "source": [
    "print(\"Comparison Test: Clean Spill -- Flipped Hypothesis and Flipped Data\")\n",
    "print(\"n_max: \", 200)\n",
    "print(\"alpha: \", 0.05)\n",
    "print()\n",
    "\n",
    "print(\"STEP Result: \")\n",
    "print(\"Decision: \", step_result.decision)\n",
    "print(\"Time to Decision: \", step_result.info['Time'])\n",
    "print()\n",
    "print(\"SAVI Result: \")\n",
    "print(\"Decision: \", savi_result.decision)\n",
    "print(\"Time to Decision: \", savi_result.info['result_for_alternative'].info['Time'])\n",
    "print()\n",
    "print(\"LAI Result: \")\n",
    "print(\"Decision: \", lai_result.decision)\n",
    "print(\"Time to Decision: \", lai_result.info['Time'])"
   ]
  }
 ],
 "metadata": {
  "kernelspec": {
   "display_name": "Sequential",
   "language": "python",
   "name": "python3"
  },
  "language_info": {
   "codemirror_mode": {
    "name": "ipython",
    "version": 3
   },
   "file_extension": ".py",
   "mimetype": "text/x-python",
   "name": "python",
   "nbconvert_exporter": "python",
   "pygments_lexer": "ipython3",
   "version": "3.12.6"
  },
  "orig_nbformat": 4
 },
 "nbformat": 4,
 "nbformat_minor": 2
}
