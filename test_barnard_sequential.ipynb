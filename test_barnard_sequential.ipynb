{
 "cells": [
  {
   "cell_type": "code",
   "execution_count": 1,
   "metadata": {},
   "outputs": [],
   "source": [
    "import numpy as np \n",
    "from sequentialized_barnard_tests.barnard_sequential import BarnardSequentialTest, MirroredBarnardSequentialTest\n",
    "from sequentialized_barnard_tests import Decision, Hypothesis"
   ]
  },
  {
   "cell_type": "code",
   "execution_count": 2,
   "metadata": {},
   "outputs": [],
   "source": [
    "alpha = 0.05\n",
    "n_max = 500\n",
    "times_of_evaluation = 10 "
   ]
  },
  {
   "cell_type": "code",
   "execution_count": 3,
   "metadata": {},
   "outputs": [],
   "source": [
    "base_test = BarnardSequentialTest(alternative=Hypothesis.P0LessThanP1, alpha=alpha, n_max=n_max, times_of_evaluation=times_of_evaluation)"
   ]
  },
  {
   "cell_type": "code",
   "execution_count": 4,
   "metadata": {},
   "outputs": [],
   "source": [
    "base_mirrored_test = MirroredBarnardSequentialTest(alternative=Hypothesis.P0LessThanP1, alpha=alpha, n_max=n_max, times_of_evaluation=times_of_evaluation)"
   ]
  },
  {
   "cell_type": "code",
   "execution_count": 5,
   "metadata": {},
   "outputs": [],
   "source": [
    "result_base = base_test.run_on_sequence(np.zeros(31), np.ones(31))"
   ]
  },
  {
   "cell_type": "code",
   "execution_count": 6,
   "metadata": {},
   "outputs": [
    {
     "name": "stdout",
     "output_type": "stream",
     "text": [
      "Decision.AcceptAlternative\n",
      "{'p_value': 9.5367431640625e-07, 'statistic': -4.47213595499958, 'Time': 10}\n"
     ]
    }
   ],
   "source": [
    "print(result_base.decision)\n",
    "print(result_base.info)"
   ]
  },
  {
   "cell_type": "code",
   "execution_count": 7,
   "metadata": {},
   "outputs": [],
   "source": [
    "result_mirrored_base = base_mirrored_test.run_on_sequence(np.zeros(31), np.ones(31))"
   ]
  },
  {
   "cell_type": "code",
   "execution_count": 8,
   "metadata": {},
   "outputs": [
    {
     "name": "stdout",
     "output_type": "stream",
     "text": [
      "Decision.AcceptAlternative\n",
      "TestResult(decision=<Decision.AcceptAlternative: 1>, info={'p_value': 9.5367431640625e-07, 'statistic': -4.47213595499958, 'Time': 10})\n",
      "TestResult(decision=<Decision.FailToDecide: 2>, info={'p_value': 1.0, 'statistic': -4.47213595499958, 'Time': 10})\n"
     ]
    }
   ],
   "source": [
    "print(result_mirrored_base.decision)\n",
    "print(result_mirrored_base.info[\"result_for_alternative\"])\n",
    "print(result_mirrored_base.info[\"result_for_null\"])"
   ]
  },
  {
   "cell_type": "code",
   "execution_count": 9,
   "metadata": {},
   "outputs": [
    {
     "name": "stdout",
     "output_type": "stream",
     "text": [
      "Decision.FailToDecide\n",
      "{'Time': 31}\n"
     ]
    }
   ],
   "source": [
    "result_base = base_test.run_on_sequence(np.ones(31), np.zeros(31))\n",
    "print(result_base.decision)\n",
    "print(result_base.info)"
   ]
  },
  {
   "cell_type": "code",
   "execution_count": 10,
   "metadata": {},
   "outputs": [
    {
     "name": "stdout",
     "output_type": "stream",
     "text": [
      "Decision.AcceptNull\n",
      "TestResult(decision=<Decision.FailToDecide: 2>, info={'p_value': 1.0, 'statistic': 4.47213595499958, 'Time': 10})\n",
      "TestResult(decision=<Decision.AcceptAlternative: 1>, info={'p_value': 9.5367431640625e-07, 'statistic': 4.47213595499958, 'Time': 10})\n"
     ]
    }
   ],
   "source": [
    "result_mirrored_base = base_mirrored_test.run_on_sequence(np.ones(31), np.zeros(31))\n",
    "print(result_mirrored_base.decision)\n",
    "print(result_mirrored_base.info[\"result_for_alternative\"])\n",
    "print(result_mirrored_base.info[\"result_for_null\"])"
   ]
  },
  {
   "cell_type": "code",
   "execution_count": 16,
   "metadata": {},
   "outputs": [
    {
     "name": "stdout",
     "output_type": "stream",
     "text": [
      "Decision.FailToDecide\n",
      "TestResult(decision=<Decision.FailToDecide: 2>, info={'p_value': 0.031154807675887342, 'statistic': -1.9518001458970664, 'Time': 10})\n",
      "TestResult(decision=<Decision.FailToDecide: 2>, info={'p_value': 1.0, 'statistic': -1.9518001458970664, 'Time': 10})\n",
      "0.05\n"
     ]
    }
   ],
   "source": [
    "# result_mirrored_base = base_mirrored_test.run_on_sequence(\n",
    "#     [0, 1, 0, 0, 0, 1, 0, 1, 1, 0, 0, 0, 0, 0, 0, 0, 0, 0, 0, 0, 0], \n",
    "#     [1, 1, 1, 1, 1, 0, 1, 0, 1, 1, 1, 1, 1, 1, 1, 1, 1, 1, 1, 1, 1], \n",
    "#     )\n",
    "result_mirrored_base = base_mirrored_test.run_on_sequence(\n",
    "    [0, 1, 0, 0, 1, 1, 0, 1, 1, 0], # , 0, 0, 0, 0, 0, 0, 0, 0, 0, 0, 0], \n",
    "    [1, 1, 1, 1, 1, 1, 1, 0, 1, 1], # , 1, 1, 1, 1, 1, 1, 1, 1, 1, 1, 1], \n",
    "    )\n",
    "print(result_mirrored_base.decision)\n",
    "print(result_mirrored_base.info[\"result_for_alternative\"])\n",
    "print(result_mirrored_base.info[\"result_for_null\"])\n",
    "print(base_mirrored_test.alpha)"
   ]
  },
  {
   "cell_type": "code",
   "execution_count": null,
   "metadata": {},
   "outputs": [],
   "source": []
  }
 ],
 "metadata": {
  "kernelspec": {
   "display_name": "seq_barnard",
   "language": "python",
   "name": "python3"
  },
  "language_info": {
   "codemirror_mode": {
    "name": "ipython",
    "version": 3
   },
   "file_extension": ".py",
   "mimetype": "text/x-python",
   "name": "python",
   "nbconvert_exporter": "python",
   "pygments_lexer": "ipython3",
   "version": "3.12.6"
  },
  "orig_nbformat": 4
 },
 "nbformat": 4,
 "nbformat_minor": 2
}
