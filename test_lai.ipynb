{
 "cells": [
  {
   "cell_type": "code",
   "execution_count": 1,
   "metadata": {},
   "outputs": [],
   "source": [
    "import numpy as np\n",
    "from scipy import stats"
   ]
  },
  {
   "cell_type": "code",
   "execution_count": 2,
   "metadata": {},
   "outputs": [],
   "source": [
    "from sequentialized_barnard_tests.lai import LaiTest, MirroredLaiTest\n",
    "from sequentialized_barnard_tests.base import Decision, Hypothesis"
   ]
  },
  {
   "cell_type": "code",
   "execution_count": 3,
   "metadata": {},
   "outputs": [],
   "source": [
    "n_max = 500\n",
    "alpha = 0.05\n",
    "hypothesis = Hypothesis.P0LessThanP1\n",
    "minimum_gap = 0.0\n",
    "\n",
    "basic_test = LaiTest(hypothesis, n_max, alpha, minimum_gap)"
   ]
  },
  {
   "cell_type": "code",
   "execution_count": 4,
   "metadata": {},
   "outputs": [],
   "source": [
    "basic_mirrored_test = MirroredLaiTest(hypothesis, n_max=n_max, alpha=alpha, minimum_gap=minimum_gap)"
   ]
  },
  {
   "cell_type": "code",
   "execution_count": 5,
   "metadata": {},
   "outputs": [
    {
     "name": "stdout",
     "output_type": "stream",
     "text": [
      "4.3320915613895993e-05\n"
     ]
    }
   ],
   "source": [
    "basic_test.calibrate_c(2000)\n",
    "print(basic_test.c)"
   ]
  },
  {
   "cell_type": "code",
   "execution_count": 6,
   "metadata": {},
   "outputs": [
    {
     "name": "stdout",
     "output_type": "stream",
     "text": [
      "5.3077895340120925e-05\n"
     ]
    }
   ],
   "source": [
    "basic_mirrored_test.calibrate_c(2000)\n",
    "print(basic_mirrored_test.c)"
   ]
  },
  {
   "cell_type": "code",
   "execution_count": 8,
   "metadata": {},
   "outputs": [
    {
     "name": "stdout",
     "output_type": "stream",
     "text": [
      "One-sided test result: \n",
      "Decision.AcceptAlternative\n",
      "10\n",
      "\n",
      "Mirrored test result: \n",
      "Decision.AcceptAlternative\n",
      "10\n"
     ]
    }
   ],
   "source": [
    "basic_test.reset()\n",
    "basic_mirrored_test.reset()\n",
    "\n",
    "test_case_0s = np.zeros(15)\n",
    "test_case_1s = np.ones(15)\n",
    "\n",
    "basic_result_alt_is_true = basic_test.run_on_sequence(test_case_0s, test_case_1s)\n",
    "mirrored_result_alt_is_true =basic_mirrored_test.run_on_sequence(test_case_0s, test_case_1s)\n",
    "\n",
    "print(\"One-sided test result: \")\n",
    "print(basic_result_alt_is_true.decision)\n",
    "print(basic_result_alt_is_true.info[\"Time\"])\n",
    "print()\n",
    "\n",
    "print(\"Mirrored test result: \")\n",
    "print(mirrored_result_alt_is_true.decision)\n",
    "print(mirrored_result_alt_is_true.info[\"Time\"])\n",
    "# print(mirrored_result_alt_is_true.info[\"result_for_alternative\"].info[\"Time\"])"
   ]
  },
  {
   "cell_type": "code",
   "execution_count": 9,
   "metadata": {},
   "outputs": [
    {
     "name": "stdout",
     "output_type": "stream",
     "text": [
      "One-sided test result: \n",
      "Decision.FailToDecide\n",
      "15\n",
      "\n",
      "Mirrored test result: \n",
      "Decision.AcceptNull\n",
      "10\n"
     ]
    }
   ],
   "source": [
    "basic_test.reset()\n",
    "basic_mirrored_test.reset()\n",
    "\n",
    "test_case_0s = np.zeros(15)\n",
    "test_case_1s = np.ones(15)\n",
    "\n",
    "basic_result_alt_is_false = basic_test.run_on_sequence(test_case_1s, test_case_0s)\n",
    "mirrored_result_alt_is_false = basic_mirrored_test.run_on_sequence(test_case_1s, test_case_0s)\n",
    "\n",
    "print(\"One-sided test result: \")\n",
    "print(basic_result_alt_is_false.decision)\n",
    "print(basic_result_alt_is_false.info[\"Time\"])\n",
    "print()\n",
    "\n",
    "print(\"Mirrored test result: \")\n",
    "print(mirrored_result_alt_is_false.decision)\n",
    "print(mirrored_result_alt_is_false.info[\"Time\"])\n",
    "# print(mirrored_result_alt_is_false.info[\"result_for_null\"].info[\"Time\"])\n"
   ]
  },
  {
   "cell_type": "code",
   "execution_count": 10,
   "metadata": {},
   "outputs": [],
   "source": [
    "from tqdm import tqdm"
   ]
  },
  {
   "cell_type": "code",
   "execution_count": 11,
   "metadata": {},
   "outputs": [
    {
     "name": "stderr",
     "output_type": "stream",
     "text": [
      "100%|██████████| 1000/1000 [00:07<00:00, 125.27it/s]\n"
     ]
    }
   ],
   "source": [
    "accept_alts = 0\n",
    "accept_nulls = 0 \n",
    "\n",
    "for k in tqdm(range(1000)):\n",
    "    data_0 = np.random.binomial(1, 0.5, n_max)\n",
    "    data_1 = np.random.binomial(1, 0.5, n_max)\n",
    "    basic_test.reset()\n",
    "    result = basic_test.run_on_sequence(data_0, data_1)\n",
    "    if result.decision == Decision.AcceptAlternative:\n",
    "        accept_alts += 1 \n",
    "    elif result.decision == Decision.AcceptNull:\n",
    "        accept_nulls += 1 \n"
   ]
  },
  {
   "cell_type": "code",
   "execution_count": 12,
   "metadata": {},
   "outputs": [
    {
     "name": "stdout",
     "output_type": "stream",
     "text": [
      "Fraction of false positives: 0.041\n",
      "Fraction of correct early negatives: 0.0\n"
     ]
    }
   ],
   "source": [
    "print(f\"Fraction of false positives: {accept_alts / 1000}\")\n",
    "print(f\"Fraction of correct early negatives: {accept_nulls / 1000}\")"
   ]
  },
  {
   "cell_type": "code",
   "execution_count": 13,
   "metadata": {},
   "outputs": [
    {
     "name": "stderr",
     "output_type": "stream",
     "text": [
      "100%|██████████| 1000/1000 [00:07<00:00, 127.94it/s]\n"
     ]
    }
   ],
   "source": [
    "accept_alts = 0\n",
    "accept_nulls = 0 \n",
    "\n",
    "for k in tqdm(range(1000)):\n",
    "    data_0 = np.random.binomial(1, 0.5, n_max)\n",
    "    data_1 = np.random.binomial(1, 0.5, n_max)\n",
    "    basic_mirrored_test.reset()\n",
    "    result = basic_mirrored_test.run_on_sequence(data_0, data_1)\n",
    "    if result.decision == Decision.AcceptAlternative:\n",
    "        accept_alts += 1 \n",
    "    elif result.decision == Decision.AcceptNull:\n",
    "        accept_nulls += 1 "
   ]
  },
  {
   "cell_type": "code",
   "execution_count": 14,
   "metadata": {},
   "outputs": [
    {
     "name": "stdout",
     "output_type": "stream",
     "text": [
      "Fraction of false positives: 0.034\n",
      "Fraction of correct early negatives: 0.038\n"
     ]
    }
   ],
   "source": [
    "print(f\"Fraction of false positives: {accept_alts / 1000}\")\n",
    "print(f\"Fraction of correct early negatives: {accept_nulls / 1000}\")"
   ]
  },
  {
   "cell_type": "code",
   "execution_count": null,
   "metadata": {},
   "outputs": [],
   "source": []
  }
 ],
 "metadata": {
  "kernelspec": {
   "display_name": "Sequential",
   "language": "python",
   "name": "python3"
  },
  "language_info": {
   "codemirror_mode": {
    "name": "ipython",
    "version": 3
   },
   "file_extension": ".py",
   "mimetype": "text/x-python",
   "name": "python",
   "nbconvert_exporter": "python",
   "pygments_lexer": "ipython3",
   "version": "3.12.6"
  },
  "orig_nbformat": 4
 },
 "nbformat": 4,
 "nbformat_minor": 2
}
